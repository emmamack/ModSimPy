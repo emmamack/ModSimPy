{
 "cells": [
  {
   "cell_type": "markdown",
   "metadata": {},
   "source": [
    "# Modeling and Simulation in Python\n",
    "\n",
    "Chapter 20\n",
    "\n",
    "Copyright 2017 Allen Downey\n",
    "\n",
    "License: [Creative Commons Attribution 4.0 International](https://creativecommons.org/licenses/by/4.0)\n"
   ]
  },
  {
   "cell_type": "code",
   "execution_count": 1,
   "metadata": {},
   "outputs": [],
   "source": [
    "# Configure Jupyter so figures appear in the notebook\n",
    "%matplotlib inline\n",
    "\n",
    "# Configure Jupyter to display the assigned value after an assignment\n",
    "%config InteractiveShell.ast_node_interactivity='last_expr_or_assign'\n",
    "\n",
    "# import functions from the modsim.py module\n",
    "from modsim import *\n",
    "import numpy as np"
   ]
  },
  {
   "cell_type": "markdown",
   "metadata": {},
   "source": [
    "### Dropping pennies\n",
    "\n",
    "I'll start by getting the units we need from Pint."
   ]
  },
  {
   "cell_type": "code",
   "execution_count": 2,
   "metadata": {},
   "outputs": [
    {
     "data": {
      "text/html": [
       "kilogram"
      ],
      "text/latex": [
       "$kilogram$"
      ],
      "text/plain": [
       "<Unit('kilogram')>"
      ]
     },
     "execution_count": 2,
     "metadata": {},
     "output_type": "execute_result"
    }
   ],
   "source": [
    "m = UNITS.meter\n",
    "s = UNITS.second\n",
    "kg = UNITS.kilogram"
   ]
  },
  {
   "cell_type": "markdown",
   "metadata": {},
   "source": [
    "And defining the initial state."
   ]
  },
  {
   "cell_type": "code",
   "execution_count": 3,
   "metadata": {
    "scrolled": true
   },
   "outputs": [
    {
     "data": {
      "text/html": [
       "<div>\n",
       "<style scoped>\n",
       "    .dataframe tbody tr th:only-of-type {\n",
       "        vertical-align: middle;\n",
       "    }\n",
       "\n",
       "    .dataframe tbody tr th {\n",
       "        vertical-align: top;\n",
       "    }\n",
       "\n",
       "    .dataframe thead th {\n",
       "        text-align: right;\n",
       "    }\n",
       "</style>\n",
       "<table border=\"1\" class=\"dataframe\">\n",
       "  <thead>\n",
       "    <tr style=\"text-align: right;\">\n",
       "      <th></th>\n",
       "      <th>values</th>\n",
       "    </tr>\n",
       "  </thead>\n",
       "  <tbody>\n",
       "    <tr>\n",
       "      <th>y</th>\n",
       "      <td>381 meter</td>\n",
       "    </tr>\n",
       "    <tr>\n",
       "      <th>v</th>\n",
       "      <td>0.0 meter / second</td>\n",
       "    </tr>\n",
       "  </tbody>\n",
       "</table>\n",
       "</div>"
      ],
      "text/plain": [
       "y             381 meter\n",
       "v    0.0 meter / second\n",
       "dtype: object"
      ]
     },
     "execution_count": 3,
     "metadata": {},
     "output_type": "execute_result"
    }
   ],
   "source": [
    "init = State(y=381 * m, \n",
    "             v=0 * m/s)"
   ]
  },
  {
   "cell_type": "markdown",
   "metadata": {},
   "source": [
    "Acceleration due to gravity is about 9.8 m / s$^2$."
   ]
  },
  {
   "cell_type": "code",
   "execution_count": 4,
   "metadata": {},
   "outputs": [
    {
     "data": {
      "text/html": [
       "9.8 meter/second<sup>2</sup>"
      ],
      "text/latex": [
       "$9.8 \\frac{meter}{second^{2}}$"
      ],
      "text/plain": [
       "<Quantity(9.8, 'meter / second ** 2')>"
      ]
     },
     "execution_count": 4,
     "metadata": {},
     "output_type": "execute_result"
    }
   ],
   "source": [
    "g = 9.8 * m/s**2"
   ]
  },
  {
   "cell_type": "markdown",
   "metadata": {},
   "source": [
    "When we call `odeint`, we need an array of timestamps where we want to compute the solution.\n",
    "\n",
    "I'll start with a duration of 10 seconds."
   ]
  },
  {
   "cell_type": "code",
   "execution_count": 5,
   "metadata": {},
   "outputs": [
    {
     "data": {
      "text/html": [
       "10 second"
      ],
      "text/latex": [
       "$10 second$"
      ],
      "text/plain": [
       "<Quantity(10, 'second')>"
      ]
     },
     "execution_count": 5,
     "metadata": {},
     "output_type": "execute_result"
    }
   ],
   "source": [
    "t_end = 10 * s"
   ]
  },
  {
   "cell_type": "markdown",
   "metadata": {},
   "source": [
    "Now we make a `System` object."
   ]
  },
  {
   "cell_type": "code",
   "execution_count": 6,
   "metadata": {},
   "outputs": [
    {
     "data": {
      "text/html": [
       "<div>\n",
       "<style scoped>\n",
       "    .dataframe tbody tr th:only-of-type {\n",
       "        vertical-align: middle;\n",
       "    }\n",
       "\n",
       "    .dataframe tbody tr th {\n",
       "        vertical-align: top;\n",
       "    }\n",
       "\n",
       "    .dataframe thead th {\n",
       "        text-align: right;\n",
       "    }\n",
       "</style>\n",
       "<table border=\"1\" class=\"dataframe\">\n",
       "  <thead>\n",
       "    <tr style=\"text-align: right;\">\n",
       "      <th></th>\n",
       "      <th>values</th>\n",
       "    </tr>\n",
       "  </thead>\n",
       "  <tbody>\n",
       "    <tr>\n",
       "      <th>init</th>\n",
       "      <td>y             381 meter\n",
       "v    0.0 meter / secon...</td>\n",
       "    </tr>\n",
       "    <tr>\n",
       "      <th>g</th>\n",
       "      <td>9.8 meter / second ** 2</td>\n",
       "    </tr>\n",
       "    <tr>\n",
       "      <th>t_end</th>\n",
       "      <td>10 second</td>\n",
       "    </tr>\n",
       "  </tbody>\n",
       "</table>\n",
       "</div>"
      ],
      "text/plain": [
       "init     y             381 meter\n",
       "v    0.0 meter / secon...\n",
       "g                                  9.8 meter / second ** 2\n",
       "t_end                                            10 second\n",
       "dtype: object"
      ]
     },
     "execution_count": 6,
     "metadata": {},
     "output_type": "execute_result"
    }
   ],
   "source": [
    "system = System(init=init, g=g, t_end=t_end)"
   ]
  },
  {
   "cell_type": "markdown",
   "metadata": {},
   "source": [
    "And define the slope function."
   ]
  },
  {
   "cell_type": "code",
   "execution_count": 7,
   "metadata": {},
   "outputs": [],
   "source": [
    "def slope_func(state, t, system):\n",
    "    \"\"\"Compute derivatives of the state.\n",
    "    \n",
    "    state: position, velocity\n",
    "    t: time\n",
    "    system: System object containing `g`\n",
    "    \n",
    "    returns: derivatives of y and v\n",
    "    \"\"\"\n",
    "    y, v = state\n",
    "    unpack(system)    \n",
    "\n",
    "    dydt = v\n",
    "    dvdt = -g\n",
    "    \n",
    "    return dydt, dvdt"
   ]
  },
  {
   "cell_type": "markdown",
   "metadata": {},
   "source": [
    "It's always a good idea to test the slope function with the initial conditions."
   ]
  },
  {
   "cell_type": "code",
   "execution_count": 8,
   "metadata": {},
   "outputs": [
    {
     "name": "stdout",
     "output_type": "stream",
     "text": [
      "0.0 meter / second\n",
      "-9.8 meter / second ** 2\n"
     ]
    }
   ],
   "source": [
    "dydt, dvdt = slope_func(init, 0, system)\n",
    "print(dydt)\n",
    "print(dvdt)"
   ]
  },
  {
   "cell_type": "markdown",
   "metadata": {},
   "source": [
    "Now we're ready to call `run_ode_solver`"
   ]
  },
  {
   "cell_type": "code",
   "execution_count": 9,
   "metadata": {},
   "outputs": [
    {
     "data": {
      "text/plain": [
       "'The solver successfully reached the end of the integration interval.'"
      ]
     },
     "execution_count": 9,
     "metadata": {},
     "output_type": "execute_result"
    }
   ],
   "source": [
    "results, details = run_ode_solver(system, slope_func, max_step=0.5*s)\n",
    "details.message"
   ]
  },
  {
   "cell_type": "markdown",
   "metadata": {},
   "source": [
    "Here are the results:"
   ]
  },
  {
   "cell_type": "code",
   "execution_count": 10,
   "metadata": {},
   "outputs": [
    {
     "data": {
      "text/html": [
       "<div>\n",
       "<style scoped>\n",
       "    .dataframe tbody tr th:only-of-type {\n",
       "        vertical-align: middle;\n",
       "    }\n",
       "\n",
       "    .dataframe tbody tr th {\n",
       "        vertical-align: top;\n",
       "    }\n",
       "\n",
       "    .dataframe thead th {\n",
       "        text-align: right;\n",
       "    }\n",
       "</style>\n",
       "<table border=\"1\" class=\"dataframe\">\n",
       "  <thead>\n",
       "    <tr style=\"text-align: right;\">\n",
       "      <th></th>\n",
       "      <th>y</th>\n",
       "      <th>v</th>\n",
       "    </tr>\n",
       "  </thead>\n",
       "  <tbody>\n",
       "    <tr>\n",
       "      <th>0.000000</th>\n",
       "      <td>381.000000</td>\n",
       "      <td>0.000000</td>\n",
       "    </tr>\n",
       "    <tr>\n",
       "      <th>0.000102</th>\n",
       "      <td>381.000000</td>\n",
       "      <td>-0.001000</td>\n",
       "    </tr>\n",
       "    <tr>\n",
       "      <th>0.001122</th>\n",
       "      <td>380.999994</td>\n",
       "      <td>-0.011000</td>\n",
       "    </tr>\n",
       "    <tr>\n",
       "      <th>0.011327</th>\n",
       "      <td>380.999371</td>\n",
       "      <td>-0.111000</td>\n",
       "    </tr>\n",
       "    <tr>\n",
       "      <th>0.113367</th>\n",
       "      <td>380.937025</td>\n",
       "      <td>-1.110997</td>\n",
       "    </tr>\n",
       "    <tr>\n",
       "      <th>0.613367</th>\n",
       "      <td>379.156526</td>\n",
       "      <td>-6.010997</td>\n",
       "    </tr>\n",
       "    <tr>\n",
       "      <th>1.113367</th>\n",
       "      <td>374.926028</td>\n",
       "      <td>-10.910997</td>\n",
       "    </tr>\n",
       "    <tr>\n",
       "      <th>1.613367</th>\n",
       "      <td>368.245529</td>\n",
       "      <td>-15.810997</td>\n",
       "    </tr>\n",
       "    <tr>\n",
       "      <th>2.113367</th>\n",
       "      <td>359.115031</td>\n",
       "      <td>-20.710997</td>\n",
       "    </tr>\n",
       "    <tr>\n",
       "      <th>2.613367</th>\n",
       "      <td>347.534532</td>\n",
       "      <td>-25.610997</td>\n",
       "    </tr>\n",
       "    <tr>\n",
       "      <th>3.113367</th>\n",
       "      <td>333.504034</td>\n",
       "      <td>-30.510997</td>\n",
       "    </tr>\n",
       "    <tr>\n",
       "      <th>3.613367</th>\n",
       "      <td>317.023535</td>\n",
       "      <td>-35.410997</td>\n",
       "    </tr>\n",
       "    <tr>\n",
       "      <th>4.113367</th>\n",
       "      <td>298.093036</td>\n",
       "      <td>-40.310997</td>\n",
       "    </tr>\n",
       "    <tr>\n",
       "      <th>4.613367</th>\n",
       "      <td>276.712538</td>\n",
       "      <td>-45.210997</td>\n",
       "    </tr>\n",
       "    <tr>\n",
       "      <th>5.113367</th>\n",
       "      <td>252.882039</td>\n",
       "      <td>-50.110997</td>\n",
       "    </tr>\n",
       "    <tr>\n",
       "      <th>5.613367</th>\n",
       "      <td>226.601541</td>\n",
       "      <td>-55.010997</td>\n",
       "    </tr>\n",
       "    <tr>\n",
       "      <th>6.113367</th>\n",
       "      <td>197.871042</td>\n",
       "      <td>-59.910997</td>\n",
       "    </tr>\n",
       "    <tr>\n",
       "      <th>6.613367</th>\n",
       "      <td>166.690544</td>\n",
       "      <td>-64.810997</td>\n",
       "    </tr>\n",
       "    <tr>\n",
       "      <th>7.113367</th>\n",
       "      <td>133.060045</td>\n",
       "      <td>-69.710997</td>\n",
       "    </tr>\n",
       "    <tr>\n",
       "      <th>7.613367</th>\n",
       "      <td>96.979547</td>\n",
       "      <td>-74.610997</td>\n",
       "    </tr>\n",
       "    <tr>\n",
       "      <th>8.113367</th>\n",
       "      <td>58.449048</td>\n",
       "      <td>-79.510997</td>\n",
       "    </tr>\n",
       "    <tr>\n",
       "      <th>8.613367</th>\n",
       "      <td>17.468550</td>\n",
       "      <td>-84.410997</td>\n",
       "    </tr>\n",
       "    <tr>\n",
       "      <th>9.113367</th>\n",
       "      <td>-25.961949</td>\n",
       "      <td>-89.310997</td>\n",
       "    </tr>\n",
       "    <tr>\n",
       "      <th>9.613367</th>\n",
       "      <td>-71.842448</td>\n",
       "      <td>-94.210997</td>\n",
       "    </tr>\n",
       "    <tr>\n",
       "      <th>10.000000</th>\n",
       "      <td>-109.000000</td>\n",
       "      <td>-98.000000</td>\n",
       "    </tr>\n",
       "  </tbody>\n",
       "</table>\n",
       "</div>"
      ],
      "text/plain": [
       "                    y          v\n",
       "0.000000   381.000000   0.000000\n",
       "0.000102   381.000000  -0.001000\n",
       "0.001122   380.999994  -0.011000\n",
       "0.011327   380.999371  -0.111000\n",
       "0.113367   380.937025  -1.110997\n",
       "0.613367   379.156526  -6.010997\n",
       "1.113367   374.926028 -10.910997\n",
       "1.613367   368.245529 -15.810997\n",
       "2.113367   359.115031 -20.710997\n",
       "2.613367   347.534532 -25.610997\n",
       "3.113367   333.504034 -30.510997\n",
       "3.613367   317.023535 -35.410997\n",
       "4.113367   298.093036 -40.310997\n",
       "4.613367   276.712538 -45.210997\n",
       "5.113367   252.882039 -50.110997\n",
       "5.613367   226.601541 -55.010997\n",
       "6.113367   197.871042 -59.910997\n",
       "6.613367   166.690544 -64.810997\n",
       "7.113367   133.060045 -69.710997\n",
       "7.613367    96.979547 -74.610997\n",
       "8.113367    58.449048 -79.510997\n",
       "8.613367    17.468550 -84.410997\n",
       "9.113367   -25.961949 -89.310997\n",
       "9.613367   -71.842448 -94.210997\n",
       "10.000000 -109.000000 -98.000000"
      ]
     },
     "execution_count": 10,
     "metadata": {},
     "output_type": "execute_result"
    }
   ],
   "source": [
    "results"
   ]
  },
  {
   "cell_type": "markdown",
   "metadata": {},
   "source": [
    "And here's position as a function of time:"
   ]
  },
  {
   "cell_type": "code",
   "execution_count": 11,
   "metadata": {},
   "outputs": [
    {
     "name": "stdout",
     "output_type": "stream",
     "text": [
      "Saving figure to file figs/chap09-fig01.pdf\n"
     ]
    },
    {
     "data": {
      "image/png": "[encoded data removed]",
      "text/plain": [
       "<Figure size 432x288 with 1 Axes>"
      ]
     },
     "metadata": {},
     "output_type": "display_data"
    }
   ],
   "source": [
    "def plot_position(results):\n",
    "    plot(results.y, label='y')\n",
    "    decorate(xlabel='Time (s)',\n",
    "             ylabel='Position (m)')\n",
    "\n",
    "plot_position(results)\n",
    "savefig('figs/chap09-fig01.pdf')"
   ]
  },
  {
   "cell_type": "markdown",
   "metadata": {},
   "source": [
    "### Onto the sidewalk\n",
    "\n",
    "To figure out when the penny hit the sidewalk, we can use `crossings`, which finds the times where a `Series` passes through a given value."
   ]
  },
  {
   "cell_type": "code",
   "execution_count": 12,
   "metadata": {},
   "outputs": [
    {
     "data": {
      "text/plain": [
       "array([8.81788535])"
      ]
     },
     "execution_count": 12,
     "metadata": {},
     "output_type": "execute_result"
    }
   ],
   "source": [
    "t_crossings = crossings(results.y, 0)"
   ]
  },
  {
   "cell_type": "markdown",
   "metadata": {},
   "source": [
    "For this example there should be just one crossing, the time when the penny hits the sidewalk."
   ]
  },
  {
   "cell_type": "code",
   "execution_count": 13,
   "metadata": {},
   "outputs": [
    {
     "data": {
      "text/html": [
       "8.817885349720552 second"
      ],
      "text/latex": [
       "$8.817885349720552 second$"
      ],
      "text/plain": [
       "<Quantity(8.817885349720552, 'second')>"
      ]
     },
     "execution_count": 13,
     "metadata": {},
     "output_type": "execute_result"
    }
   ],
   "source": [
    "t_sidewalk = t_crossings[0] * s"
   ]
  },
  {
   "cell_type": "markdown",
   "metadata": {},
   "source": [
    "We can compare that to the exact result.  Without air resistance, we have\n",
    "\n",
    "$v = -g t$\n",
    "\n",
    "and\n",
    "\n",
    "$y = 381 - g t^2 / 2$\n",
    "\n",
    "Setting $y=0$ and solving for $t$ yields\n",
    "\n",
    "$t = \\sqrt{\\frac{2 y_{init}}{g}}$"
   ]
  },
  {
   "cell_type": "code",
   "execution_count": 14,
   "metadata": {},
   "outputs": [
    {
     "data": {
      "text/html": [
       "8.817885349720552 second"
      ],
      "text/latex": [
       "$8.817885349720552 second$"
      ],
      "text/plain": [
       "<Quantity(8.817885349720552, 'second')>"
      ]
     },
     "execution_count": 14,
     "metadata": {},
     "output_type": "execute_result"
    }
   ],
   "source": [
    "sqrt(2 * init.y / g)"
   ]
  },
  {
   "cell_type": "markdown",
   "metadata": {},
   "source": [
    "The estimate is accurate to about 10 decimal places."
   ]
  },
  {
   "cell_type": "markdown",
   "metadata": {},
   "source": [
    "## Events\n",
    "\n",
    "Instead of running the simulation until the penny goes through the sidewalk, it would be better to detect the point where the penny hits the sidewalk and stop.  `run_ode_solver` provides exactly the tool we need, **event functions**.\n",
    "\n",
    "Here's an event function that returns the height of the penny above the sidewalk:"
   ]
  },
  {
   "cell_type": "code",
   "execution_count": 15,
   "metadata": {},
   "outputs": [],
   "source": [
    "def event_func(state, t, system):\n",
    "    \"\"\"Return the height of the penny above the sidewalk.\n",
    "    \"\"\"\n",
    "    y, v = state\n",
    "    return y"
   ]
  },
  {
   "cell_type": "markdown",
   "metadata": {},
   "source": [
    "And here's how we pass it to `run_ode_solver`.  The solver should run until the event function returns 0, and then terminate."
   ]
  },
  {
   "cell_type": "code",
   "execution_count": 16,
   "metadata": {},
   "outputs": [
    {
     "data": {
      "text/html": [
       "<div>\n",
       "<style scoped>\n",
       "    .dataframe tbody tr th:only-of-type {\n",
       "        vertical-align: middle;\n",
       "    }\n",
       "\n",
       "    .dataframe tbody tr th {\n",
       "        vertical-align: top;\n",
       "    }\n",
       "\n",
       "    .dataframe thead th {\n",
       "        text-align: right;\n",
       "    }\n",
       "</style>\n",
       "<table border=\"1\" class=\"dataframe\">\n",
       "  <thead>\n",
       "    <tr style=\"text-align: right;\">\n",
       "      <th></th>\n",
       "      <th>values</th>\n",
       "    </tr>\n",
       "  </thead>\n",
       "  <tbody>\n",
       "    <tr>\n",
       "      <th>sol</th>\n",
       "      <td>None</td>\n",
       "    </tr>\n",
       "    <tr>\n",
       "      <th>t_events</th>\n",
       "      <td>[[8.81788534972056]]</td>\n",
       "    </tr>\n",
       "    <tr>\n",
       "      <th>nfev</th>\n",
       "      <td>38</td>\n",
       "    </tr>\n",
       "    <tr>\n",
       "      <th>njev</th>\n",
       "      <td>0</td>\n",
       "    </tr>\n",
       "    <tr>\n",
       "      <th>nlu</th>\n",
       "      <td>0</td>\n",
       "    </tr>\n",
       "    <tr>\n",
       "      <th>status</th>\n",
       "      <td>1</td>\n",
       "    </tr>\n",
       "    <tr>\n",
       "      <th>message</th>\n",
       "      <td>A termination event occurred.</td>\n",
       "    </tr>\n",
       "    <tr>\n",
       "      <th>success</th>\n",
       "      <td>True</td>\n",
       "    </tr>\n",
       "  </tbody>\n",
       "</table>\n",
       "</div>"
      ],
      "text/plain": [
       "sol                                  None\n",
       "t_events             [[8.81788534972056]]\n",
       "nfev                                   38\n",
       "njev                                    0\n",
       "nlu                                     0\n",
       "status                                  1\n",
       "message     A termination event occurred.\n",
       "success                              True\n",
       "dtype: object"
      ]
     },
     "execution_count": 16,
     "metadata": {},
     "output_type": "execute_result"
    }
   ],
   "source": [
    "results, details = run_ode_solver(system, slope_func, events=event_func)\n",
    "details"
   ]
  },
  {
   "cell_type": "markdown",
   "metadata": {},
   "source": [
    "The message from the solver indicates the solver stopped because the event we wanted to detect happened.\n",
    "\n",
    "Here are the results:"
   ]
  },
  {
   "cell_type": "code",
   "execution_count": 17,
   "metadata": {},
   "outputs": [
    {
     "data": {
      "text/html": [
       "<div>\n",
       "<style scoped>\n",
       "    .dataframe tbody tr th:only-of-type {\n",
       "        vertical-align: middle;\n",
       "    }\n",
       "\n",
       "    .dataframe tbody tr th {\n",
       "        vertical-align: top;\n",
       "    }\n",
       "\n",
       "    .dataframe thead th {\n",
       "        text-align: right;\n",
       "    }\n",
       "</style>\n",
       "<table border=\"1\" class=\"dataframe\">\n",
       "  <thead>\n",
       "    <tr style=\"text-align: right;\">\n",
       "      <th></th>\n",
       "      <th>y</th>\n",
       "      <th>v</th>\n",
       "    </tr>\n",
       "  </thead>\n",
       "  <tbody>\n",
       "    <tr>\n",
       "      <th>0.000000</th>\n",
       "      <td>3.810000e+02</td>\n",
       "      <td>0.000000</td>\n",
       "    </tr>\n",
       "    <tr>\n",
       "      <th>0.000102</th>\n",
       "      <td>3.810000e+02</td>\n",
       "      <td>-0.001000</td>\n",
       "    </tr>\n",
       "    <tr>\n",
       "      <th>0.001122</th>\n",
       "      <td>3.810000e+02</td>\n",
       "      <td>-0.011000</td>\n",
       "    </tr>\n",
       "    <tr>\n",
       "      <th>0.011327</th>\n",
       "      <td>3.809994e+02</td>\n",
       "      <td>-0.111000</td>\n",
       "    </tr>\n",
       "    <tr>\n",
       "      <th>0.113367</th>\n",
       "      <td>3.809370e+02</td>\n",
       "      <td>-1.110997</td>\n",
       "    </tr>\n",
       "    <tr>\n",
       "      <th>1.133773</th>\n",
       "      <td>3.747013e+02</td>\n",
       "      <td>-11.110971</td>\n",
       "    </tr>\n",
       "    <tr>\n",
       "      <th>8.817885</th>\n",
       "      <td>5.684342e-14</td>\n",
       "      <td>-86.415276</td>\n",
       "    </tr>\n",
       "  </tbody>\n",
       "</table>\n",
       "</div>"
      ],
      "text/plain": [
       "                     y          v\n",
       "0.000000  3.810000e+02   0.000000\n",
       "0.000102  3.810000e+02  -0.001000\n",
       "0.001122  3.810000e+02  -0.011000\n",
       "0.011327  3.809994e+02  -0.111000\n",
       "0.113367  3.809370e+02  -1.110997\n",
       "1.133773  3.747013e+02 -11.110971\n",
       "8.817885  5.684342e-14 -86.415276"
      ]
     },
     "execution_count": 17,
     "metadata": {},
     "output_type": "execute_result"
    }
   ],
   "source": [
    "results"
   ]
  },
  {
   "cell_type": "markdown",
   "metadata": {},
   "source": [
    "With the `events` option, the solver returns the actual time steps it computed, which are not necessarily equally spaced. \n",
    "\n",
    "The last time step is when the event occurred:"
   ]
  },
  {
   "cell_type": "code",
   "execution_count": 18,
   "metadata": {},
   "outputs": [
    {
     "data": {
      "text/html": [
       "8.81788534972056 second"
      ],
      "text/latex": [
       "$8.81788534972056 second$"
      ],
      "text/plain": [
       "<Quantity(8.81788534972056, 'second')>"
      ]
     },
     "execution_count": 18,
     "metadata": {},
     "output_type": "execute_result"
    }
   ],
   "source": [
    "t_sidewalk = get_last_label(results) * s"
   ]
  },
  {
   "cell_type": "markdown",
   "metadata": {},
   "source": [
    "Unfortunately, `run_ode_solver` does not carry the units through the computation, so we have to put them back at the end.\n",
    "\n",
    "We could also get the time of the event from `details`, but it's a minor nuisance because it comes packed in an array:"
   ]
  },
  {
   "cell_type": "code",
   "execution_count": 19,
   "metadata": {},
   "outputs": [
    {
     "data": {
      "text/html": [
       "8.81788534972056 second"
      ],
      "text/latex": [
       "$8.81788534972056 second$"
      ],
      "text/plain": [
       "<Quantity(8.81788534972056, 'second')>"
      ]
     },
     "execution_count": 19,
     "metadata": {},
     "output_type": "execute_result"
    }
   ],
   "source": [
    "details.t_events[0][0] * s"
   ]
  },
  {
   "cell_type": "markdown",
   "metadata": {},
   "source": [
    "The result is accurate to about 15 decimal places.\n",
    "\n",
    "We can also check the velocity of the penny when it hits the sidewalk:"
   ]
  },
  {
   "cell_type": "code",
   "execution_count": 20,
   "metadata": {},
   "outputs": [
    {
     "data": {
      "text/html": [
       "-86.41527642726152 meter/second"
      ],
      "text/latex": [
       "$-86.41527642726152 \\frac{meter}{second}$"
      ],
      "text/plain": [
       "<Quantity(-86.41527642726152, 'meter / second')>"
      ]
     },
     "execution_count": 20,
     "metadata": {},
     "output_type": "execute_result"
    }
   ],
   "source": [
    "v_sidewalk = get_last_value(results.v) * m / s"
   ]
  },
  {
   "cell_type": "markdown",
   "metadata": {},
   "source": [
    "And convert to kilometers per hour."
   ]
  },
  {
   "cell_type": "code",
   "execution_count": 21,
   "metadata": {},
   "outputs": [
    {
     "data": {
      "text/html": [
       "-311.0949951381415 kilometer/hour"
      ],
      "text/latex": [
       "$-311.0949951381415 \\frac{kilometer}{hour}$"
      ],
      "text/plain": [
       "<Quantity(-311.0949951381415, 'kilometer / hour')>"
      ]
     },
     "execution_count": 21,
     "metadata": {},
     "output_type": "execute_result"
    }
   ],
   "source": [
    "km = UNITS.kilometer\n",
    "h = UNITS.hour\n",
    "v_sidewalk.to(km / h)"
   ]
  },
  {
   "cell_type": "markdown",
   "metadata": {},
   "source": [
    "If there were no air resistance, the penny would hit the sidewalk (or someone's head) at more than 300 km/h.\n",
    "\n",
    "So it's a good thing there is air resistance."
   ]
  },
  {
   "cell_type": "markdown",
   "metadata": {},
   "source": [
    "## Under the hood\n",
    "\n",
    "Here is the source code for `crossings` so you can see what's happening under the hood:"
   ]
  },
  {
   "cell_type": "code",
   "execution_count": 22,
   "metadata": {},
   "outputs": [],
   "source": [
    "%psource crossings"
   ]
  },
  {
   "cell_type": "markdown",
   "metadata": {},
   "source": [
    "The [documentation of InterpolatedUnivariateSpline is here](https://docs.scipy.org/doc/scipy/reference/generated/scipy.interpolate.InterpolatedUnivariateSpline.html).\n",
    "\n",
    "And you can read the [documentation of `scipy.integrate.solve_ivp`](https://docs.scipy.org/doc/scipy/reference/generated/scipy.integrate.solve_ivp.html) to learn more about how `run_ode_solver` works."
   ]
  },
  {
   "cell_type": "markdown",
   "metadata": {},
   "source": [
    "### Exercises\n",
    "\n",
    "**Exercise:** Here's a question from the web site [Ask an Astronomer](http://curious.astro.cornell.edu/about-us/39-our-solar-system/the-earth/other-catastrophes/57-how-long-would-it-take-the-earth-to-fall-into-the-sun-intermediate):\n",
    "\n",
    "\"If the Earth suddenly stopped orbiting the Sun, I know eventually it would be pulled in by the Sun's gravity and hit it. How long would it take the Earth to hit the Sun? I imagine it would go slowly at first and then pick up speed.\"\n",
    "\n",
    "Use `run_ode_solver` to answer this question.\n",
    "\n",
    "Here are some suggestions about how to proceed:\n",
    "\n",
    "1.  Look up the Law of Universal Gravitation and any constants you need.  I suggest you work entirely in SI units: meters, kilograms, and Newtons.\n",
    "\n",
    "2.  When the distance between the Earth and the Sun gets small, this system behaves badly, so you should use an event function to stop when the surface of Earth reaches the surface of the Sun.\n",
    "\n",
    "3. Express your answer in days, and plot the results as millions of kilometers versus days.\n",
    "\n",
    "If you read the reply by Dave Rothstein, you will see other ways to solve the problem, and a good discussion of the modeling decisions behind them.\n",
    "\n",
    "You might also be interested to know that [it's actually not that easy to get to the Sun](https://www.theatlantic.com/science/archive/2018/08/parker-solar-probe-launch-nasa/567197/)."
   ]
  },
  {
   "cell_type": "code",
   "execution_count": 38,
   "metadata": {},
   "outputs": [
    {
     "data": {
      "text/html": [
       "<div>\n",
       "<style scoped>\n",
       "    .dataframe tbody tr th:only-of-type {\n",
       "        vertical-align: middle;\n",
       "    }\n",
       "\n",
       "    .dataframe tbody tr th {\n",
       "        vertical-align: top;\n",
       "    }\n",
       "\n",
       "    .dataframe thead th {\n",
       "        text-align: right;\n",
       "    }\n",
       "</style>\n",
       "<table border=\"1\" class=\"dataframe\">\n",
       "  <thead>\n",
       "    <tr style=\"text-align: right;\">\n",
       "      <th></th>\n",
       "      <th>values</th>\n",
       "    </tr>\n",
       "  </thead>\n",
       "  <tbody>\n",
       "    <tr>\n",
       "      <th>g</th>\n",
       "      <td>-9.81 meter / second ** 2</td>\n",
       "    </tr>\n",
       "    <tr>\n",
       "      <th>G</th>\n",
       "      <td>6.674079999999999e-11 meter ** 3 / kilogram / ...</td>\n",
       "    </tr>\n",
       "    <tr>\n",
       "      <th>m_earth</th>\n",
       "      <td>5.972e+24 kilogram</td>\n",
       "    </tr>\n",
       "    <tr>\n",
       "      <th>m_sun</th>\n",
       "      <td>1.9890000000000002e+30 kilogram</td>\n",
       "    </tr>\n",
       "    <tr>\n",
       "      <th>r_sun</th>\n",
       "      <td>695508 kilometer</td>\n",
       "    </tr>\n",
       "    <tr>\n",
       "      <th>init</th>\n",
       "      <td>r    150000000000.0 meter\n",
       "v      0.0 meter / s...</td>\n",
       "    </tr>\n",
       "    <tr>\n",
       "      <th>t_end</th>\n",
       "      <td>inf</td>\n",
       "    </tr>\n",
       "  </tbody>\n",
       "</table>\n",
       "</div>"
      ],
      "text/plain": [
       "g                                  -9.81 meter / second ** 2\n",
       "G          6.674079999999999e-11 meter ** 3 / kilogram / ...\n",
       "m_earth                                   5.972e+24 kilogram\n",
       "m_sun                        1.9890000000000002e+30 kilogram\n",
       "r_sun                                       695508 kilometer\n",
       "init       r    150000000000.0 meter\n",
       "v      0.0 meter / s...\n",
       "t_end                                                    inf\n",
       "dtype: object"
      ]
     },
     "execution_count": 38,
     "metadata": {},
     "output_type": "execute_result"
    }
   ],
   "source": [
    "init = State(r=1.5e11 * m, \n",
    "             v=0 * m/s)\n",
    "system = System(g = -9.81 * m/s**2,\n",
    "                G = 6.67408 * 10**-11 * m**3*kg**(-1)*s**(-2),\n",
    "                m_earth = 5.972 * 10**24 * kg,\n",
    "                m_sun = 1.989 * 10**30 * kg,\n",
    "                r_sun = 695508 * km,\n",
    "               init = init,\n",
    "               t_end = np.inf)"
   ]
  },
  {
   "cell_type": "code",
   "execution_count": 39,
   "metadata": {},
   "outputs": [],
   "source": [
    "def slope_func(state, t, system):\n",
    "    \"\"\"Compute derivatives of the state.\n",
    "    \n",
    "    state: position, velocity\n",
    "    t: time\n",
    "    system: System object containing `g`\n",
    "    \n",
    "    returns: derivatives of y and v\n",
    "    \"\"\"\n",
    "    r, v = state\n",
    "    unpack(system)    \n",
    "\n",
    "    dvdt = -G * m_sun / r**2\n",
    "    drdt = v\n",
    "    \n",
    "    \n",
    "    return drdt, dvdt"
   ]
  },
  {
   "cell_type": "code",
   "execution_count": 40,
   "metadata": {},
   "outputs": [],
   "source": [
    "def event_func(state, t, system):\n",
    "    \"\"\"Return the height of the earth from the surface of the sun.\n",
    "    \"\"\"\n",
    "    r, v = state\n",
    "    dist = r - system.r_sun\n",
    "    return dist"
   ]
  },
  {
   "cell_type": "code",
   "execution_count": 41,
   "metadata": {
    "scrolled": true
   },
   "outputs": [
    {
     "data": {
      "text/plain": [
       "'Required step size is less than spacing between numbers.'"
      ]
     },
     "execution_count": 41,
     "metadata": {},
     "output_type": "execute_result"
    }
   ],
   "source": [
    "results, details = run_ode_solver(system, slope_func, max_step=1000*s)\n",
    "details.message"
   ]
  },
  {
   "cell_type": "code",
   "execution_count": 42,
   "metadata": {},
   "outputs": [
    {
     "data": {
      "text/html": [
       "<div>\n",
       "<style scoped>\n",
       "    .dataframe tbody tr th:only-of-type {\n",
       "        vertical-align: middle;\n",
       "    }\n",
       "\n",
       "    .dataframe tbody tr th {\n",
       "        vertical-align: top;\n",
       "    }\n",
       "\n",
       "    .dataframe thead th {\n",
       "        text-align: right;\n",
       "    }\n",
       "</style>\n",
       "<table border=\"1\" class=\"dataframe\">\n",
       "  <thead>\n",
       "    <tr style=\"text-align: right;\">\n",
       "      <th></th>\n",
       "      <th>r</th>\n",
       "      <th>v</th>\n",
       "    </tr>\n",
       "  </thead>\n",
       "  <tbody>\n",
       "    <tr>\n",
       "      <th>0.000000e+00</th>\n",
       "      <td>1.500000e+11</td>\n",
       "      <td>0.000000e+00</td>\n",
       "    </tr>\n",
       "    <tr>\n",
       "      <th>7.515091e-02</th>\n",
       "      <td>1.500000e+11</td>\n",
       "      <td>-4.433819e-04</td>\n",
       "    </tr>\n",
       "    <tr>\n",
       "      <th>8.266601e-01</th>\n",
       "      <td>1.500000e+11</td>\n",
       "      <td>-4.877201e-03</td>\n",
       "    </tr>\n",
       "    <tr>\n",
       "      <th>8.341751e+00</th>\n",
       "      <td>1.500000e+11</td>\n",
       "      <td>-4.921539e-02</td>\n",
       "    </tr>\n",
       "    <tr>\n",
       "      <th>8.349267e+01</th>\n",
       "      <td>1.500000e+11</td>\n",
       "      <td>-4.925973e-01</td>\n",
       "    </tr>\n",
       "    <tr>\n",
       "      <th>8.350018e+02</th>\n",
       "      <td>1.500000e+11</td>\n",
       "      <td>-4.926416e+00</td>\n",
       "    </tr>\n",
       "    <tr>\n",
       "      <th>1.835002e+03</th>\n",
       "      <td>1.500000e+11</td>\n",
       "      <td>-1.082630e+01</td>\n",
       "    </tr>\n",
       "    <tr>\n",
       "      <th>2.835002e+03</th>\n",
       "      <td>1.500000e+11</td>\n",
       "      <td>-1.672619e+01</td>\n",
       "    </tr>\n",
       "    <tr>\n",
       "      <th>3.835002e+03</th>\n",
       "      <td>1.500000e+11</td>\n",
       "      <td>-2.262608e+01</td>\n",
       "    </tr>\n",
       "    <tr>\n",
       "      <th>4.835002e+03</th>\n",
       "      <td>1.499999e+11</td>\n",
       "      <td>-2.852597e+01</td>\n",
       "    </tr>\n",
       "    <tr>\n",
       "      <th>5.835002e+03</th>\n",
       "      <td>1.499999e+11</td>\n",
       "      <td>-3.442587e+01</td>\n",
       "    </tr>\n",
       "    <tr>\n",
       "      <th>6.835002e+03</th>\n",
       "      <td>1.499999e+11</td>\n",
       "      <td>-4.032576e+01</td>\n",
       "    </tr>\n",
       "    <tr>\n",
       "      <th>7.835002e+03</th>\n",
       "      <td>1.499998e+11</td>\n",
       "      <td>-4.622566e+01</td>\n",
       "    </tr>\n",
       "    <tr>\n",
       "      <th>8.835002e+03</th>\n",
       "      <td>1.499998e+11</td>\n",
       "      <td>-5.212556e+01</td>\n",
       "    </tr>\n",
       "    <tr>\n",
       "      <th>9.835002e+03</th>\n",
       "      <td>1.499997e+11</td>\n",
       "      <td>-5.802547e+01</td>\n",
       "    </tr>\n",
       "    <tr>\n",
       "      <th>1.083500e+04</th>\n",
       "      <td>1.499997e+11</td>\n",
       "      <td>-6.392538e+01</td>\n",
       "    </tr>\n",
       "    <tr>\n",
       "      <th>1.183500e+04</th>\n",
       "      <td>1.499996e+11</td>\n",
       "      <td>-6.982530e+01</td>\n",
       "    </tr>\n",
       "    <tr>\n",
       "      <th>1.283500e+04</th>\n",
       "      <td>1.499995e+11</td>\n",
       "      <td>-7.572522e+01</td>\n",
       "    </tr>\n",
       "    <tr>\n",
       "      <th>1.383500e+04</th>\n",
       "      <td>1.499994e+11</td>\n",
       "      <td>-8.162515e+01</td>\n",
       "    </tr>\n",
       "    <tr>\n",
       "      <th>1.483500e+04</th>\n",
       "      <td>1.499994e+11</td>\n",
       "      <td>-8.752508e+01</td>\n",
       "    </tr>\n",
       "    <tr>\n",
       "      <th>1.583500e+04</th>\n",
       "      <td>1.499993e+11</td>\n",
       "      <td>-9.342502e+01</td>\n",
       "    </tr>\n",
       "    <tr>\n",
       "      <th>1.683500e+04</th>\n",
       "      <td>1.499992e+11</td>\n",
       "      <td>-9.932497e+01</td>\n",
       "    </tr>\n",
       "    <tr>\n",
       "      <th>1.783500e+04</th>\n",
       "      <td>1.499991e+11</td>\n",
       "      <td>-1.052249e+02</td>\n",
       "    </tr>\n",
       "    <tr>\n",
       "      <th>1.883500e+04</th>\n",
       "      <td>1.499990e+11</td>\n",
       "      <td>-1.111249e+02</td>\n",
       "    </tr>\n",
       "    <tr>\n",
       "      <th>1.983500e+04</th>\n",
       "      <td>1.499988e+11</td>\n",
       "      <td>-1.170249e+02</td>\n",
       "    </tr>\n",
       "    <tr>\n",
       "      <th>2.083500e+04</th>\n",
       "      <td>1.499987e+11</td>\n",
       "      <td>-1.229249e+02</td>\n",
       "    </tr>\n",
       "    <tr>\n",
       "      <th>2.183500e+04</th>\n",
       "      <td>1.499986e+11</td>\n",
       "      <td>-1.288248e+02</td>\n",
       "    </tr>\n",
       "    <tr>\n",
       "      <th>2.283500e+04</th>\n",
       "      <td>1.499985e+11</td>\n",
       "      <td>-1.347248e+02</td>\n",
       "    </tr>\n",
       "    <tr>\n",
       "      <th>2.383500e+04</th>\n",
       "      <td>1.499983e+11</td>\n",
       "      <td>-1.406249e+02</td>\n",
       "    </tr>\n",
       "    <tr>\n",
       "      <th>2.483500e+04</th>\n",
       "      <td>1.499982e+11</td>\n",
       "      <td>-1.465249e+02</td>\n",
       "    </tr>\n",
       "    <tr>\n",
       "      <th>...</th>\n",
       "      <td>...</td>\n",
       "      <td>...</td>\n",
       "    </tr>\n",
       "    <tr>\n",
       "      <th>5.600520e+06</th>\n",
       "      <td>2.240141e+07</td>\n",
       "      <td>-3.443950e+06</td>\n",
       "    </tr>\n",
       "    <tr>\n",
       "      <th>5.600522e+06</th>\n",
       "      <td>1.554540e+07</td>\n",
       "      <td>-4.133775e+06</td>\n",
       "    </tr>\n",
       "    <tr>\n",
       "      <th>5.600523e+06</th>\n",
       "      <td>8.721013e+06</td>\n",
       "      <td>-5.519982e+06</td>\n",
       "    </tr>\n",
       "    <tr>\n",
       "      <th>5.600523e+06</th>\n",
       "      <td>6.151548e+06</td>\n",
       "      <td>-6.571658e+06</td>\n",
       "    </tr>\n",
       "    <tr>\n",
       "      <th>5.600524e+06</th>\n",
       "      <td>3.515396e+06</td>\n",
       "      <td>-8.694006e+06</td>\n",
       "    </tr>\n",
       "    <tr>\n",
       "      <th>5.600524e+06</th>\n",
       "      <td>2.350933e+06</td>\n",
       "      <td>-1.063007e+07</td>\n",
       "    </tr>\n",
       "    <tr>\n",
       "      <th>5.600524e+06</th>\n",
       "      <td>1.252087e+06</td>\n",
       "      <td>-1.457182e+07</td>\n",
       "    </tr>\n",
       "    <tr>\n",
       "      <th>5.600524e+06</th>\n",
       "      <td>1.016971e+06</td>\n",
       "      <td>-1.616665e+07</td>\n",
       "    </tr>\n",
       "    <tr>\n",
       "      <th>5.600524e+06</th>\n",
       "      <td>6.339840e+05</td>\n",
       "      <td>-2.047251e+07</td>\n",
       "    </tr>\n",
       "    <tr>\n",
       "      <th>5.600524e+06</th>\n",
       "      <td>3.361030e+05</td>\n",
       "      <td>-2.812780e+07</td>\n",
       "    </tr>\n",
       "    <tr>\n",
       "      <th>5.600524e+06</th>\n",
       "      <td>2.834737e+05</td>\n",
       "      <td>-3.062399e+07</td>\n",
       "    </tr>\n",
       "    <tr>\n",
       "      <th>5.600524e+06</th>\n",
       "      <td>1.781492e+05</td>\n",
       "      <td>-3.862279e+07</td>\n",
       "    </tr>\n",
       "    <tr>\n",
       "      <th>5.600524e+06</th>\n",
       "      <td>8.287609e+04</td>\n",
       "      <td>-5.673434e+07</td>\n",
       "    </tr>\n",
       "    <tr>\n",
       "      <th>5.600524e+06</th>\n",
       "      <td>6.112567e+04</td>\n",
       "      <td>-6.602057e+07</td>\n",
       "    </tr>\n",
       "    <tr>\n",
       "      <th>5.600524e+06</th>\n",
       "      <td>3.635723e+04</td>\n",
       "      <td>-8.555480e+07</td>\n",
       "    </tr>\n",
       "    <tr>\n",
       "      <th>5.600524e+06</th>\n",
       "      <td>2.171735e+04</td>\n",
       "      <td>-1.106585e+08</td>\n",
       "    </tr>\n",
       "    <tr>\n",
       "      <th>5.600524e+06</th>\n",
       "      <td>1.282374e+04</td>\n",
       "      <td>-1.439784e+08</td>\n",
       "    </tr>\n",
       "    <tr>\n",
       "      <th>5.600524e+06</th>\n",
       "      <td>7.813584e+03</td>\n",
       "      <td>-1.844218e+08</td>\n",
       "    </tr>\n",
       "    <tr>\n",
       "      <th>5.600524e+06</th>\n",
       "      <td>4.380818e+03</td>\n",
       "      <td>-2.463171e+08</td>\n",
       "    </tr>\n",
       "    <tr>\n",
       "      <th>5.600524e+06</th>\n",
       "      <td>3.095423e+03</td>\n",
       "      <td>-2.929837e+08</td>\n",
       "    </tr>\n",
       "    <tr>\n",
       "      <th>5.600524e+06</th>\n",
       "      <td>1.771988e+03</td>\n",
       "      <td>-3.872534e+08</td>\n",
       "    </tr>\n",
       "    <tr>\n",
       "      <th>5.600524e+06</th>\n",
       "      <td>1.179411e+03</td>\n",
       "      <td>-4.746094e+08</td>\n",
       "    </tr>\n",
       "    <tr>\n",
       "      <th>5.600524e+06</th>\n",
       "      <td>6.237500e+02</td>\n",
       "      <td>-6.529073e+08</td>\n",
       "    </tr>\n",
       "    <tr>\n",
       "      <th>5.600524e+06</th>\n",
       "      <td>5.380417e+02</td>\n",
       "      <td>-7.029164e+08</td>\n",
       "    </tr>\n",
       "    <tr>\n",
       "      <th>5.600524e+06</th>\n",
       "      <td>3.959780e+02</td>\n",
       "      <td>-8.192233e+08</td>\n",
       "    </tr>\n",
       "    <tr>\n",
       "      <th>5.600524e+06</th>\n",
       "      <td>2.348461e+02</td>\n",
       "      <td>-1.063705e+09</td>\n",
       "    </tr>\n",
       "    <tr>\n",
       "      <th>5.600524e+06</th>\n",
       "      <td>1.416768e+02</td>\n",
       "      <td>-1.369422e+09</td>\n",
       "    </tr>\n",
       "    <tr>\n",
       "      <th>5.600524e+06</th>\n",
       "      <td>8.276054e+01</td>\n",
       "      <td>-1.791774e+09</td>\n",
       "    </tr>\n",
       "    <tr>\n",
       "      <th>5.600524e+06</th>\n",
       "      <td>5.325104e+01</td>\n",
       "      <td>-2.233513e+09</td>\n",
       "    </tr>\n",
       "    <tr>\n",
       "      <th>5.600524e+06</th>\n",
       "      <td>2.673424e+01</td>\n",
       "      <td>-3.155022e+09</td>\n",
       "    </tr>\n",
       "  </tbody>\n",
       "</table>\n",
       "<p>5641 rows × 2 columns</p>\n",
       "</div>"
      ],
      "text/plain": [
       "                         r             v\n",
       "0.000000e+00  1.500000e+11  0.000000e+00\n",
       "7.515091e-02  1.500000e+11 -4.433819e-04\n",
       "8.266601e-01  1.500000e+11 -4.877201e-03\n",
       "8.341751e+00  1.500000e+11 -4.921539e-02\n",
       "8.349267e+01  1.500000e+11 -4.925973e-01\n",
       "8.350018e+02  1.500000e+11 -4.926416e+00\n",
       "1.835002e+03  1.500000e+11 -1.082630e+01\n",
       "2.835002e+03  1.500000e+11 -1.672619e+01\n",
       "3.835002e+03  1.500000e+11 -2.262608e+01\n",
       "4.835002e+03  1.499999e+11 -2.852597e+01\n",
       "5.835002e+03  1.499999e+11 -3.442587e+01\n",
       "6.835002e+03  1.499999e+11 -4.032576e+01\n",
       "7.835002e+03  1.499998e+11 -4.622566e+01\n",
       "8.835002e+03  1.499998e+11 -5.212556e+01\n",
       "9.835002e+03  1.499997e+11 -5.802547e+01\n",
       "1.083500e+04  1.499997e+11 -6.392538e+01\n",
       "1.183500e+04  1.499996e+11 -6.982530e+01\n",
       "1.283500e+04  1.499995e+11 -7.572522e+01\n",
       "1.383500e+04  1.499994e+11 -8.162515e+01\n",
       "1.483500e+04  1.499994e+11 -8.752508e+01\n",
       "1.583500e+04  1.499993e+11 -9.342502e+01\n",
       "1.683500e+04  1.499992e+11 -9.932497e+01\n",
       "1.783500e+04  1.499991e+11 -1.052249e+02\n",
       "1.883500e+04  1.499990e+11 -1.111249e+02\n",
       "1.983500e+04  1.499988e+11 -1.170249e+02\n",
       "2.083500e+04  1.499987e+11 -1.229249e+02\n",
       "2.183500e+04  1.499986e+11 -1.288248e+02\n",
       "2.283500e+04  1.499985e+11 -1.347248e+02\n",
       "2.383500e+04  1.499983e+11 -1.406249e+02\n",
       "2.483500e+04  1.499982e+11 -1.465249e+02\n",
       "...                    ...           ...\n",
       "5.600520e+06  2.240141e+07 -3.443950e+06\n",
       "5.600522e+06  1.554540e+07 -4.133775e+06\n",
       "5.600523e+06  8.721013e+06 -5.519982e+06\n",
       "5.600523e+06  6.151548e+06 -6.571658e+06\n",
       "5.600524e+06  3.515396e+06 -8.694006e+06\n",
       "5.600524e+06  2.350933e+06 -1.063007e+07\n",
       "5.600524e+06  1.252087e+06 -1.457182e+07\n",
       "5.600524e+06  1.016971e+06 -1.616665e+07\n",
       "5.600524e+06  6.339840e+05 -2.047251e+07\n",
       "5.600524e+06  3.361030e+05 -2.812780e+07\n",
       "5.600524e+06  2.834737e+05 -3.062399e+07\n",
       "5.600524e+06  1.781492e+05 -3.862279e+07\n",
       "5.600524e+06  8.287609e+04 -5.673434e+07\n",
       "5.600524e+06  6.112567e+04 -6.602057e+07\n",
       "5.600524e+06  3.635723e+04 -8.555480e+07\n",
       "5.600524e+06  2.171735e+04 -1.106585e+08\n",
       "5.600524e+06  1.282374e+04 -1.439784e+08\n",
       "5.600524e+06  7.813584e+03 -1.844218e+08\n",
       "5.600524e+06  4.380818e+03 -2.463171e+08\n",
       "5.600524e+06  3.095423e+03 -2.929837e+08\n",
       "5.600524e+06  1.771988e+03 -3.872534e+08\n",
       "5.600524e+06  1.179411e+03 -4.746094e+08\n",
       "5.600524e+06  6.237500e+02 -6.529073e+08\n",
       "5.600524e+06  5.380417e+02 -7.029164e+08\n",
       "5.600524e+06  3.959780e+02 -8.192233e+08\n",
       "5.600524e+06  2.348461e+02 -1.063705e+09\n",
       "5.600524e+06  1.416768e+02 -1.369422e+09\n",
       "5.600524e+06  8.276054e+01 -1.791774e+09\n",
       "5.600524e+06  5.325104e+01 -2.233513e+09\n",
       "5.600524e+06  2.673424e+01 -3.155022e+09\n",
       "\n",
       "[5641 rows x 2 columns]"
      ]
     },
     "execution_count": 42,
     "metadata": {},
     "output_type": "execute_result"
    }
   ],
   "source": [
    "results"
   ]
  },
  {
   "cell_type": "code",
   "execution_count": 43,
   "metadata": {},
   "outputs": [
    {
     "name": "stdout",
     "output_type": "stream",
     "text": [
      "0.0 meter / second\n",
      "-0.005899886720000001 meter / second ** 2\n"
     ]
    }
   ],
   "source": [
    "dydt, dvdt = slope_func(init, 0, system)\n",
    "print(dydt)\n",
    "print(dvdt)"
   ]
  },
  {
   "cell_type": "code",
   "execution_count": 44,
   "metadata": {},
   "outputs": [
    {
     "data": {
      "image/png": "[encoded data removed]",
      "text/plain": [
       "<Figure size 432x288 with 1 Axes>"
      ]
     },
     "metadata": {},
     "output_type": "display_data"
    }
   ],
   "source": [
    "def plot_position(results):\n",
    "    plot(results.r, label='y')\n",
    "    decorate(xlabel='Time (s)',\n",
    "             ylabel='Position (m)')\n",
    "\n",
    "plot_position(results)"
   ]
  },
  {
   "cell_type": "code",
   "execution_count": 45,
   "metadata": {},
   "outputs": [],
   "source": [
    "# Solution goes here"
   ]
  },
  {
   "cell_type": "code",
   "execution_count": 31,
   "metadata": {},
   "outputs": [],
   "source": [
    "# Solution goes here"
   ]
  },
  {
   "cell_type": "code",
   "execution_count": 32,
   "metadata": {},
   "outputs": [],
   "source": [
    "# Solution goes here"
   ]
  },
  {
   "cell_type": "code",
   "execution_count": 33,
   "metadata": {},
   "outputs": [],
   "source": [
    "# Solution goes here"
   ]
  },
  {
   "cell_type": "code",
   "execution_count": 34,
   "metadata": {},
   "outputs": [],
   "source": [
    "# Solution goes here"
   ]
  },
  {
   "cell_type": "code",
   "execution_count": 35,
   "metadata": {},
   "outputs": [],
   "source": [
    "# Solution goes here"
   ]
  },
  {
   "cell_type": "code",
   "execution_count": 36,
   "metadata": {},
   "outputs": [],
   "source": [
    "# Solution goes here"
   ]
  },
  {
   "cell_type": "code",
   "execution_count": 37,
   "metadata": {},
   "outputs": [],
   "source": [
    "# Solution goes here"
   ]
  },
  {
   "cell_type": "code",
   "execution_count": null,
   "metadata": {},
   "outputs": [],
   "source": []
  }
 ],
 "metadata": {
  "kernelspec": {
   "display_name": "Python 3",
   "language": "python",
   "name": "python3"
  },
  "language_info": {
   "codemirror_mode": {
    "name": "ipython",
    "version": 3
   },
   "file_extension": ".py",
   "mimetype": "text/x-python",
   "name": "python",
   "nbconvert_exporter": "python",
   "pygments_lexer": "ipython3",
   "version": "3.6.6"
  }
 },
 "nbformat": 4,
 "nbformat_minor": 2
}
