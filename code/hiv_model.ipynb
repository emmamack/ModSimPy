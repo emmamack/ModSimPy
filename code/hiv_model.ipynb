{
 "cells": [
  {
   "cell_type": "markdown",
   "metadata": {},
   "source": [
    "# HIV MODEL\n",
    "Emma Mack"
   ]
  },
  {
   "cell_type": "code",
   "execution_count": 98,
   "metadata": {},
   "outputs": [],
   "source": [
    "# Configure Jupyter so figures appear in the notebook\n",
    "%matplotlib inline\n",
    "\n",
    "# Configure Jupyter to display the assigned value after an assignment\n",
    "%config InteractiveShell.ast_node_interactivity='last_expr_or_assign'\n",
    "\n",
    "# import functions from the modsim.py module\n",
    "from modsim import *\n",
    "\n",
    "from matplotlib import pyplot as plt"
   ]
  },
  {
   "cell_type": "code",
   "execution_count": 109,
   "metadata": {},
   "outputs": [],
   "source": [
    "def make_system(params,uninf,lat_inf,act_inf,virions, dt):\n",
    "    \n",
    "    Γ,μ,τ,β,ρ,α,σ,δ,π=params\n",
    "    \n",
    "    init=State(R=uninf,\n",
    "               L=lat_inf,\n",
    "               E=act_inf,\n",
    "               V=virions)\n",
    "    \n",
    "    return System(init=init,Γ=Γ,τ=τ,μ=μ,π=π,σ=σ,β=β,ρ=ρ,δ=δ,α=α, dt=dt)\n"
   ]
  },
  {
   "cell_type": "code",
   "execution_count": 101,
   "metadata": {},
   "outputs": [],
   "source": [
    "def update_func(state, system):\n",
    "    \"\"\"Update the HIV model.\n",
    "    \n",
    "    state: State with variables r, l, e, v\n",
    "    system: System with all parameters\n",
    "    \n",
    "    returns: State object\n",
    "    \"\"\"\n",
    "    unpack(system)\n",
    "    \n",
    "    r, l, e, v = state\n",
    "    \n",
    "    uninf = Γ*τ - μ*r - β*r*v\n",
    "    lat_inf = ρ*β*r*v - μ*l - α*l\n",
    "    act_inf = (1 - ρ)*β*r*v + α*l - δ*e\n",
    "    virions = π*e - σ*v\n",
    "    \n",
    "    r += uninf*dt\n",
    "    l += lat_inf*dt\n",
    "    e += act_inf*dt\n",
    "    v += virions*dt\n",
    "    \n",
    "    return State(R=r, L=l, E=e, V=v)"
   ]
  },
  {
   "cell_type": "code",
   "execution_count": 114,
   "metadata": {},
   "outputs": [],
   "source": [
    "def run_simulation(system, update_func):\n",
    "    \"\"\"Runs a simulation of the system.\n",
    "        \n",
    "    system: System object\n",
    "    update_func: function that updates state\n",
    "    \n",
    "    returns: TimeFrame\n",
    "    \"\"\"\n",
    "    frame = TimeFrame(columns=system.init.index)\n",
    "    frame.row[0] = system.init\n",
    "    \n",
    "    for t in linrange(0, 120/dt, dt):\n",
    "        frame.row[t+dt] = update_func(frame.row[t], system)\n",
    "    \n",
    "    return frame"
   ]
  },
  {
   "cell_type": "code",
   "execution_count": 115,
   "metadata": {},
   "outputs": [
    {
     "data": {
      "text/plain": [
       "[<matplotlib.lines.Line2D at 0x251412ed198>]"
      ]
     },
     "execution_count": 115,
     "metadata": {},
     "output_type": "execute_result"
    },
    {
     "data": {
      "image/png": "[encoded data removed]",
      "text/plain": [
       "<Figure size 432x288 with 2 Axes>"
      ]
     },
     "metadata": {},
     "output_type": "display_data"
    }
   ],
   "source": [
    "params=Params(Γ=1.36,μ=0.00136,τ=0.2,β=0.00027,ρ=0.1,α=0.036,σ=2,δ=0.33,π=100)\n",
    "\n",
    "system = make_system(params,200,0,0,100,0.25)\n",
    "results = run_simulation(system, update_func)\n",
    "\n",
    "plt.subplot(2,1,1)\n",
    "plt.plot(results.V)\n",
    "plt.yscale('log')\n",
    "\n",
    "plt.subplot(2,1,2)\n",
    "plt.plot(results.L)\n",
    "plt.plot(results.E)\n",
    "plt.plot(results.R)"
   ]
  },
  {
   "cell_type": "code",
   "execution_count": 116,
   "metadata": {},
   "outputs": [],
   "source": [
    "# def slope_func(state, system):\n",
    "#     \"\"\"Update the HIV model.\n",
    "    \n",
    "#     state: State with variables r, l, e, v\n",
    "#     system: System with all parameters\n",
    "    \n",
    "#     returns: State object\n",
    "#     \"\"\"\n",
    "#     unpack(system)\n",
    "    \n",
    "#     r, l, e, v = state\n",
    "    \n",
    "#     drdt = Γ*τ - μ*r - β*r*v\n",
    "#     dldt = ρ*β*r*v - μ*l - α*l\n",
    "#     dedt = (1 - ρ)*β*r*v + α*l - δ*e\n",
    "#     dvdt = π*e - σ*v\n",
    "    \n",
    "#     return drdt, dldt, dedt, dvdt"
   ]
  },
  {
   "cell_type": "code",
   "execution_count": null,
   "metadata": {},
   "outputs": [],
   "source": []
  },
  {
   "cell_type": "code",
   "execution_count": null,
   "metadata": {},
   "outputs": [],
   "source": []
  },
  {
   "cell_type": "code",
   "execution_count": null,
   "metadata": {},
   "outputs": [],
   "source": []
  }
 ],
 "metadata": {
  "kernelspec": {
   "display_name": "Python 3",
   "language": "python",
   "name": "python3"
  },
  "language_info": {
   "codemirror_mode": {
    "name": "ipython",
    "version": 3
   },
   "file_extension": ".py",
   "mimetype": "text/x-python",
   "name": "python",
   "nbconvert_exporter": "python",
   "pygments_lexer": "ipython3",
   "version": "3.6.6"
  }
 },
 "nbformat": 4,
 "nbformat_minor": 2
}
